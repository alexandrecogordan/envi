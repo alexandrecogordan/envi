{
 "cells": [
  {
   "cell_type": "code",
   "execution_count": 21,
   "metadata": {},
   "outputs": [],
   "source": [
    "import requests\n",
    "import pandas as pd\n",
    "\n",
    "from bs4 import BeautifulSoup\n",
    "from selenium import webdriver\n",
    "from selenium.webdriver.common.by import By\n",
    "from selenium.webdriver.support.ui import WebDriverWait\n",
    "from selenium.webdriver.support import expected_conditions as EC\n",
    "from selenium.webdriver.firefox.service import Service\n",
    "from selenium.webdriver.firefox.options import Options\n",
    "from webdriver_manager.firefox import GeckoDriverManager"
   ]
  },
  {
   "cell_type": "code",
   "execution_count": 2,
   "metadata": {},
   "outputs": [],
   "source": [
    "retail_df = pd.DataFrame()"
   ]
  },
  {
   "cell_type": "code",
   "execution_count": 3,
   "metadata": {},
   "outputs": [],
   "source": [
    "def scrape(url):\n",
    "    response = requests.get(url)\n",
    "\n",
    "    if response.status_code == 200:\n",
    "        soup = BeautifulSoup(response.text, 'html.parser')\n",
    "        return soup\n",
    "    else:\n",
    "        print(f\"Failed to retrieve the page. Status code: {response.status_code}\")"
   ]
  },
  {
   "cell_type": "code",
   "execution_count": 54,
   "metadata": {},
   "outputs": [],
   "source": [
    "def get_max_page(url):\n",
    "    soup = scrape(url)\n",
    "\n",
    "    pages = soup.find('div', class_='pagination-links__container').find_all('a', class_='pagination-item')\n",
    "    max_page = pages[-1].text.strip()\n",
    "\n",
    "    return int(max_page)"
   ]
  },
  {
   "cell_type": "code",
   "execution_count": 82,
   "metadata": {},
   "outputs": [],
   "source": [
    "def get_product(url):\n",
    "    \n",
    "    options = webdriver.FirefoxOptions()\n",
    "    options.add_argument('--headless')\n",
    "\n",
    "    # driver = webdriver.Firefox(options = options, service = Service(GeckoDriverManager().install()))\n",
    "    driver = webdriver.Firefox(service = Service(GeckoDriverManager().install()))\n",
    "\n",
    "    driver.get(url)\n",
    "\n",
    "    names = []\n",
    "    origin = []\n",
    "\n",
    "    try:\n",
    "        articles = WebDriverWait(driver, 10).until(\n",
    "            EC.presence_of_all_elements_located((By.XPATH, './/article[@itemtype=\"http://schema.org/Product\"]'))\n",
    "        )\n",
    "\n",
    "\n",
    "        for article in articles:\n",
    "            article.click()\n",
    "\n",
    "            wait = WebDriverWait(driver, 100)\n",
    "\n",
    "            print(driver.find_elements(By.XPATH, '//*[@id=\"wrapper\"]/div[3]/div[1]/div[2]/div/section[2]/div/div[1]'))\n",
    "\n",
    "            \n",
    "            \n",
    "            driver.back()\n",
    "            # names.append(driver.find_element(By.XPATH, '//p[@class=\"product-thumbnail__description\"]').text)\n",
    "\n",
    "            # origin.append(driver.find_element(By.XPATH, '/div[@data-product-id=\"a97aa162-262b-417a-9853-7eafe5419b5b\"]').text)\n",
    "            # origin.append(driver.find_element(By.XPATH, '/div[@class=\"product-thumbnail__content-wrapper\"]//div[@class=\"product-thumbnail__details\"]').text)\n",
    "            # article.click()\n",
    "            # driver.back()\n",
    "    except:    \n",
    "        driver.quit()\n",
    "        \n",
    "\n",
    "    # soup = scrape(url)\n",
    "\n",
    "    # chrome_options = Options()\n",
    "    # chrome_options.add_argument('--headless')\n",
    "\n",
    "    # driver = webdriver.Chrome()\n",
    "    # driver.get(url)\n",
    "\n",
    "    # wait = WebDriverWait(driver, 10)\n",
    "    # wait.until(EC.presence_of_element_located((By.TAG_NAME, 'article')))\n",
    "\n",
    "    # product_elements = driver.find_elements(By.TAG_NAME, 'article')\n",
    "\n",
    "    # for product_element in product_elements:\n",
    "    #     product_element.click()\n",
    "\n",
    "    #     articles = soup.find_all('article', role='article')\n",
    "\n",
    "    #     driver.back()\n",
    "\n",
    "    # driver.quit()"
   ]
  },
  {
   "cell_type": "code",
   "execution_count": 83,
   "metadata": {},
   "outputs": [
    {
     "name": "stdout",
     "output_type": "stream",
     "text": [
      "[]\n"
     ]
    }
   ],
   "source": [
    "page_counter = 1\n",
    "urls = ['https://www.auchan.fr/fruits-legumes/fruits/ca-n0301?page=1']\n",
    "\n",
    "while page_counter <= get_max_page(urls[0]):\n",
    "    get_product(urls[0][:-1] + str(page_counter))\n",
    "    page_counter += 1\n",
    "    break"
   ]
  }
 ],
 "metadata": {
  "kernelspec": {
   "display_name": "tensorflow",
   "language": "python",
   "name": "python3"
  },
  "language_info": {
   "codemirror_mode": {
    "name": "ipython",
    "version": 3
   },
   "file_extension": ".py",
   "mimetype": "text/x-python",
   "name": "python",
   "nbconvert_exporter": "python",
   "pygments_lexer": "ipython3",
   "version": "3.10.12"
  }
 },
 "nbformat": 4,
 "nbformat_minor": 2
}
