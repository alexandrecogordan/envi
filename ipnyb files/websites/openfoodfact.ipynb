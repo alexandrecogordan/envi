{
 "cells": [
  {
   "cell_type": "code",
   "execution_count": 159,
   "metadata": {},
   "outputs": [],
   "source": [
    "import openfoodfacts\n",
    "import pandas as pd\n",
    "\n",
    "from openfoodfacts import API, APIVersion, Country, Environment, Flavor, ProductDataset"
   ]
  },
  {
   "cell_type": "code",
   "execution_count": 160,
   "metadata": {},
   "outputs": [],
   "source": [
    "api = API(\n",
    "    country=Country.fr\n",
    ")\n",
    "\n",
    "# user_agent=\"<Envi 1.0>\", \n",
    "# username=alexandre.cogordan@icloud.com,\n",
    "# password=esilv2023,\n",
    "# flavor=Flavor.off,\n",
    "# environment=Environment.org,\n",
    "# version=APIVersion.v2,"
   ]
  },
  {
   "cell_type": "code",
   "execution_count": 161,
   "metadata": {},
   "outputs": [],
   "source": [
    "dataset = ProductDataset(\"csv\")"
   ]
  },
  {
   "cell_type": "code",
   "execution_count": 162,
   "metadata": {},
   "outputs": [],
   "source": [
    "keys = ['code', 'product_name', 'origins', 'image_url']\n",
    "envi_df = pd.DataFrame(columns=keys)\n",
    "\n",
    "def add_product(product):\n",
    "    valid_product = True\n",
    "\n",
    "    for key in ['code', 'product_name', 'origins']:\n",
    "        if product[key] is None or product[key] == '':\n",
    "            valid_product = False\n",
    "    \n",
    "    if valid_product:\n",
    "        envi_df.loc[len(envi_df)] = [product[key] for key in keys]"
   ]
  },
  {
   "cell_type": "code",
   "execution_count": 163,
   "metadata": {},
   "outputs": [],
   "source": [
    "for product in dataset:\n",
    "    if 'Fruits frais' in product['categories']:\n",
    "        add_product(product)\n",
    "    elif 'Légumes frais' in product['categories']:\n",
    "        add_product(product)"
   ]
  },
  {
   "cell_type": "code",
   "execution_count": 164,
   "metadata": {},
   "outputs": [],
   "source": [
    "envi_df.sort_values(by='origins', inplace=True)"
   ]
  },
  {
   "cell_type": "code",
   "execution_count": 165,
   "metadata": {},
   "outputs": [
    {
     "name": "stderr",
     "output_type": "stream",
     "text": [
      "/var/folders/p9/flhwy6kx3s75yh91rftjm9dr0000gn/T/ipykernel_12433/1261969395.py:3: UserWarning: This pattern is interpreted as a regular expression, and has match groups. To actually get the groups, use str.extract.\n",
      "  envi_df = envi_df[envi_df['origins'].str.contains('|'.join(countries), case=False)]\n"
     ]
    }
   ],
   "source": [
    "countries = [\"Afghanistan\", \"Albanie\", \"Algérie\", \"Andorre\", \"Angola\", \"Antigua-et-Barbuda\", \"Argentine\", \"Arménie\", \"Australie\", \"Autriche\", \"Azerbaïdjan\", \"Bahamas\", \"Bahreïn\", \"Bangladesh\", \"Barbade\", \"Bélarus\", \"Belgique\", \"Belize\", \"Bénin\", \"Bhoutan\", \"Bolivie\", \"Bosnie-Herzégovine\", \"Botswana\", \"Brésil\", \"Brunéi\", \"Bulgarie\", \"Burkina Faso\", \"Burundi\", \"Cabo Verde\", \"Cambodge\", \"Cameroun\", \"Canada\", \"République centrafricaine\", \"Tchad\", \"Chili\", \"Chine\", \"Colombie\", \"Comores\", \"Congo (Congo-Brazzaville)\", \"Costa Rica\", \"Croatie\", \"Cuba\", \"Chypre\", \"Tchéquie\", \"Danemark\", \"Djibouti\", \"Dominique\", \"République dominicaine\", \"Timor oriental (Timor-Leste)\", \"Équateur\", \"Égypte\", \"El Salvador\", \"Guinée équatoriale\", \"Érythrée\", \"Estonie\", \"Eswatini (anciennement Swaziland)\", \"Éthiopie\", \"Fidji\", \"Finlande\", \"France\", \"Gabon\", \"Gambie\", \"Géorgie\", \"Allemagne\", \"Ghana\", \"Grèce\", \"Grenade\", \"Guatemala\", \"Guinée\", \"Guinée-Bissau\", \"Guyana\", \"Haïti\", \"Honduras\", \"Hongrie\", \"Islande\", \"Inde\", \"Indonésie\", \"Iran\", \"Irak\", \"Irlande\", \"Israël\", \"Italie\", \"Côte d'Ivoire\", \"Jamaïque\", \"Japon\", \"Jordanie\", \"Kazakhstan\", \"Kenya\", \"Kiribati\", \"Corée du Nord (Corée du Nord)\", \"Corée du Sud (Corée du Sud)\", \"Kosovo\", \"Koweït\", \"Kirghizistan\", \"Laos\", \"Lettonie\", \"Liban\", \"Lesotho\", \"Libéria\", \"Libye\", \"Liechtenstein\", \"Lituanie\", \"Luxembourg\", \"Madagascar\", \"Malawi\", \"Malaisie\", \"Maldives\", \"Mali\", \"Malte\", \"Îles Marshall\", \"Mauritanie\", \"Maurice\", \"Mexique\", \"Micronésie\", \"Moldavie\", \"Monaco\", \"Mongolie\", \"Monténégro\", \"Maroc\", \"Mozambique\", \"Myanmar (anciennement Birmanie)\", \"Namibie\", \"Nauru\", \"Népal\", \"Pays-Bas\", \"Nouvelle-Zélande\", \"Nicaragua\", \"Niger\", \"Nigéria\", \"Macédoine du Nord (anciennement Macédoine)\", \"Norvège\", \"Oman\", \"Pakistan\", \"Palaos\", \"Panama\", \"Papouasie-Nouvelle-Guinée\", \"Paraguay\", \"Pérou\", \"Philippines\", \"Pologne\", \"Portugal\", \"Qatar\", \"Roumanie\", \"Russie\", \"Rwanda\", \"Saint-Christophe-et-Niévès\", \"Sainte-Lucie\", \"Saint-Vincent-et-les Grenadines\", \"Samoa\", \"Saint-Marin\", \"Sao Tomé-et-Principe\", \"Arabie saoudite\", \"Sénégal\", \"Serbie\", \"Seychelles\", \"Sierra Leone\", \"Singapour\", \"Slovaquie\", \"Slovénie\", \"Îles Salomon\", \"Somalie\", \"Afrique du Sud\", \"Soudan du Sud\", \"Espagne\", \"Sri Lanka\", \"Soudan\", \"Suriname\", \"Suède\", \"Suisse\", \"Syrie\", \"Taïwan\", \"Tadjikistan\", \"Tanzanie\", \"Thaïlande\", \"Togo\", \"Tonga\", \"Trinité-et-Tobago\", \"Tunisie\", \"Turquie\", \"Turkménistan\", \"Tuvalu\", \"Ouganda\", \"Ukraine\", \"Émirats arabes unis\", \"Royaume-Uni\", \"États-Unis\", \"Uruguay\", \"Ouzbékistan\", \"Vanuatu\", \"Cité du Vatican\", \"Venezuela\", \"Vietnam\", \"Yémen\", \"Zambie\", \"Zimbabwe\"]\n",
    "\n",
    "envi_df = envi_df[envi_df['origins'].str.contains('|'.join(countries), case=False)]\n",
    "\n",
    "# for country in countries:\n",
    "#     for origin in envi_df['origins']:\n",
    "#         if country.lower() not in origin.lower():\n",
    "            \n",
    "#     envi_df['origins'] = envi_df['origins'].str.replace(fr'.*{country.lower()}.*', country, case=False)\n",
    "\n",
    "envi_df['origins'] = envi_df['origins'].str.capitalize()"
   ]
  },
  {
   "cell_type": "code",
   "execution_count": 166,
   "metadata": {},
   "outputs": [],
   "source": [
    "envi_df['origins'] = envi_df['origins'].apply(lambda x: ', '.join([country for country in countries if x.lower().find(country.lower()) != -1])).str.split(',').str[0]"
   ]
  },
  {
   "cell_type": "code",
   "execution_count": 167,
   "metadata": {},
   "outputs": [],
   "source": [
    "envi_df.to_json('openfoodfact.json', orient='records')\n",
    "envi_df.to_csv('openfoodfact.csv', index=False)"
   ]
  },
  {
   "cell_type": "markdown",
   "metadata": {},
   "source": [
    "Barcode search"
   ]
  },
  {
   "cell_type": "code",
   "execution_count": 36,
   "metadata": {},
   "outputs": [],
   "source": [
    "code = \"94001129\"\n",
    "productOne = api.product.get(code)"
   ]
  },
  {
   "cell_type": "markdown",
   "metadata": {},
   "source": [
    "Text search"
   ]
  },
  {
   "cell_type": "code",
   "execution_count": null,
   "metadata": {},
   "outputs": [],
   "source": [
    "api.product.text_search(\"mineral water\")"
   ]
  }
 ],
 "metadata": {
  "kernelspec": {
   "display_name": "base",
   "language": "python",
   "name": "python3"
  },
  "language_info": {
   "codemirror_mode": {
    "name": "ipython",
    "version": 3
   },
   "file_extension": ".py",
   "mimetype": "text/x-python",
   "name": "python",
   "nbconvert_exporter": "python",
   "pygments_lexer": "ipython3",
   "version": "3.11.4"
  }
 },
 "nbformat": 4,
 "nbformat_minor": 2
}
