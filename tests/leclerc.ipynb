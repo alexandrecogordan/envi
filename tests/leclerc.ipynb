{
 "cells": [
  {
   "cell_type": "code",
   "execution_count": 73,
   "metadata": {},
   "outputs": [],
   "source": [
    "import requests\n",
    "import pandas as pd\n",
    "import random\n",
    "\n",
    "from bs4 import BeautifulSoup"
   ]
  },
  {
   "cell_type": "code",
   "execution_count": 74,
   "metadata": {},
   "outputs": [],
   "source": [
    "retail_df = pd.DataFrame()"
   ]
  },
  {
   "cell_type": "code",
   "execution_count": 75,
   "metadata": {},
   "outputs": [],
   "source": [
    "def scrape(url):\n",
    "\n",
    "    response = requests.get(url, headers={'User-Agent': 'Mozilla/5.0 (Macintosh; Intel Mac OS X 10_12_6) AppleWebKit/537.36 (KHTML, like Gecko) Chrome/108.0.0.0 Safari/537.36 OPR/94.0.0.0'})\n",
    "\n",
    "    if response.status_code == 200:\n",
    "        soup = BeautifulSoup(response.text, 'html.parser')\n",
    "        return soup\n",
    "    else:\n",
    "        print(f\"Failed to retrieve the page. Status code: {response.status_code}\")"
   ]
  },
  {
   "cell_type": "code",
   "execution_count": 76,
   "metadata": {},
   "outputs": [],
   "source": [
    "def get_max_page(url):\n",
    "    soup = scrape(url)\n",
    "\n",
    "    pages = soup.find('div', class_='pagination-links__container').find_all('a', class_='pagination-item')\n",
    "    max_page = pages[-1].text.strip()\n",
    "\n",
    "    return int(max_page)"
   ]
  },
  {
   "cell_type": "code",
   "execution_count": 102,
   "metadata": {},
   "outputs": [],
   "source": [
    "def get_product(url):\n",
    "    soup = scrape(url)\n",
    "\n",
    "    trying = soup.find_all('a', class_='pWCRS310_Desc')\n",
    "\n",
    "    print(trying)\n",
    "\n",
    "    # products = soup.find('ul', {'id': 'ulListeProduits'})\n",
    "\n",
    "    # print(products)\n",
    "\n",
    "    # if products:\n",
    "    #     for ul in products:\n",
    "    #         print(ul)\n",
    "    #         for li in ul:\n",
    "    #             print('not here')\n",
    "    #             name = li.find('a', {'class': 'aWCRS310_Product'}).text\n",
    "    #             origin = li.find('span', {'class': 'spanWCRS310_Origine'}).text\n",
    "    #             print(f\"Product: {name}, Price: {origin}\")\n",
    "    # else:\n",
    "    #     print(\"Product list not found on the page.\")\n",
    "\n",
    "    #for product in products:\n",
    "        #name = product.find('a', class_='aWCRS310_Product aWCRS310_ProductDisabled').text.strip()\n",
    "        #origin = product.find('span', class_='spanWCRS310_Origine').text.strip()\n",
    "        #origin = product.find('span', class_='stime-product--details__origin').text.strip()\n",
    "        #retail_df.loc[len(retail_df)] = [name, price]\n",
    "        #print('Name: ', name, '\\nOrigine: ', origin)"
   ]
  },
  {
   "cell_type": "code",
   "execution_count": 103,
   "metadata": {},
   "outputs": [
    {
     "name": "stdout",
     "output_type": "stream",
     "text": [
      "[]\n"
     ]
    }
   ],
   "source": [
    "urls = ['https://fd16-courses.leclercdrive.fr/magasin-127811-127811-Bois-dArcy/rayon-284557-Le-marche-Bio.aspx']\n",
    "\n",
    "for url in urls:\n",
    "    get_product(url)"
   ]
  }
 ],
 "metadata": {
  "kernelspec": {
   "display_name": "tensorflow",
   "language": "python",
   "name": "python3"
  },
  "language_info": {
   "codemirror_mode": {
    "name": "ipython",
    "version": 3
   },
   "file_extension": ".py",
   "mimetype": "text/x-python",
   "name": "python",
   "nbconvert_exporter": "python",
   "pygments_lexer": "ipython3",
   "version": "3.10.12"
  }
 },
 "nbformat": 4,
 "nbformat_minor": 2
}
