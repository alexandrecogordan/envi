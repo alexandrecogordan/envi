{
 "cells": [
  {
   "cell_type": "code",
   "execution_count": 67,
   "metadata": {},
   "outputs": [],
   "source": [
    "import requests\n",
    "import pandas as pd\n",
    "\n",
    "from bs4 import BeautifulSoup\n",
    "from selenium import webdriver\n",
    "from selenium import webdriver\n",
    "from selenium.webdriver.common.by import By\n",
    "from selenium.webdriver.support.ui import WebDriverWait\n",
    "from selenium.webdriver.support import expected_conditions as EC\n",
    "from selenium.webdriver.chrome.options import Options"
   ]
  },
  {
   "cell_type": "code",
   "execution_count": 58,
   "metadata": {},
   "outputs": [],
   "source": [
    "retail_df = pd.DataFrame()"
   ]
  },
  {
   "cell_type": "code",
   "execution_count": 59,
   "metadata": {},
   "outputs": [],
   "source": [
    "def scrape(url):\n",
    "    response = requests.get(url)\n",
    "\n",
    "    if response.status_code == 200:\n",
    "        soup = BeautifulSoup(response.text, 'html.parser')\n",
    "        return soup\n",
    "    else:\n",
    "        print(f\"Failed to retrieve the page. Status code: {response.status_code}\")"
   ]
  },
  {
   "cell_type": "code",
   "execution_count": 72,
   "metadata": {},
   "outputs": [],
   "source": [
    "def get_product(url):\n",
    "    soup = scrape(url)\n",
    "\n",
    "    # Set up Chrome options to run in headless mode\n",
    "    chrome_options = Options()\n",
    "    chrome_options.add_argument('--headless')\n",
    "\n",
    "    driver = webdriver.Chrome()\n",
    "    driver.get(url)\n",
    "\n",
    "    wait = WebDriverWait(driver, 10)\n",
    "    wait.until(EC.presence_of_element_located((By.TAG_NAME, 'article')))\n",
    "\n",
    "    product_elements = driver.find_elements(By.TAG_NAME, 'article')\n",
    "\n",
    "    for product_element in product_elements:\n",
    "        product_element.click()\n",
    "\n",
    "        articles = soup.find_all('article', role='article')\n",
    "\n",
    "        driver.back()\n",
    "\n",
    "    driver.quit()"
   ]
  },
  {
   "cell_type": "code",
   "execution_count": 61,
   "metadata": {},
   "outputs": [],
   "source": [
    "def get_max_page(url):\n",
    "    soup = scrape(url)\n",
    "\n",
    "    pages = soup.find('div', class_='pagination-links__container').find_all('a', class_='pagination-item')\n",
    "    max_page = pages[-1].text.strip()\n",
    "\n",
    "    return int(max_page)"
   ]
  },
  {
   "cell_type": "code",
   "execution_count": 73,
   "metadata": {},
   "outputs": [
    {
     "ename": "StaleElementReferenceException",
     "evalue": "Message: stale element reference: stale element not found\n  (Session info: chrome=120.0.6099.71); For documentation on this error, please visit: https://www.selenium.dev/documentation/webdriver/troubleshooting/errors#stale-element-reference-exception\nStacktrace:\n0   chromedriver                        0x0000000104fcc4cc chromedriver + 4162764\n1   chromedriver                        0x0000000104fc4654 chromedriver + 4130388\n2   chromedriver                        0x0000000104c1bbc0 chromedriver + 293824\n3   chromedriver                        0x0000000104c2a770 chromedriver + 354160\n4   chromedriver                        0x0000000104c21af0 chromedriver + 318192\n5   chromedriver                        0x0000000104c2017c chromedriver + 311676\n6   chromedriver                        0x0000000104c2313c chromedriver + 323900\n7   chromedriver                        0x0000000104c23278 chromedriver + 324216\n8   chromedriver                        0x0000000104c640b4 chromedriver + 590004\n9   chromedriver                        0x0000000104c57840 chromedriver + 538688\n10  chromedriver                        0x0000000104c57250 chromedriver + 537168\n11  chromedriver                        0x0000000104ca1ab0 chromedriver + 842416\n12  chromedriver                        0x0000000104c556bc chromedriver + 530108\n13  chromedriver                        0x0000000104c56930 chromedriver + 534832\n14  chromedriver                        0x0000000104f91df8 chromedriver + 3923448\n15  chromedriver                        0x0000000104f963cc chromedriver + 3941324\n16  chromedriver                        0x0000000104f7a028 chromedriver + 3825704\n17  chromedriver                        0x0000000104f96f2c chromedriver + 3944236\n18  chromedriver                        0x0000000104f6c6e4 chromedriver + 3770084\n19  chromedriver                        0x0000000104fb3970 chromedriver + 4061552\n20  chromedriver                        0x0000000104fb3ae8 chromedriver + 4061928\n21  chromedriver                        0x0000000104fc42d4 chromedriver + 4129492\n22  libsystem_pthread.dylib             0x000000018bad9034 _pthread_start + 136\n23  libsystem_pthread.dylib             0x000000018bad3e3c thread_start + 8\n",
     "output_type": "error",
     "traceback": [
      "\u001b[0;31m---------------------------------------------------------------------------\u001b[0m",
      "\u001b[0;31mStaleElementReferenceException\u001b[0m            Traceback (most recent call last)",
      "\u001b[1;32m/Users/alexandrecogordan/Documents/ESILV/Ongoing/Introduction to Webscrapping/Projet/retail impact.ipynb Cell 6\u001b[0m line \u001b[0;36m5\n\u001b[1;32m      <a href='vscode-notebook-cell:/Users/alexandrecogordan/Documents/ESILV/Ongoing/Introduction%20to%20Webscrapping/Projet/retail%20impact.ipynb#W3sZmlsZQ%3D%3D?line=1'>2</a>\u001b[0m urls \u001b[39m=\u001b[39m [\u001b[39m'\u001b[39m\u001b[39mhttps://www.auchan.fr/fruits-legumes/fruits/ca-n0301?page=1\u001b[39m\u001b[39m'\u001b[39m]\n\u001b[1;32m      <a href='vscode-notebook-cell:/Users/alexandrecogordan/Documents/ESILV/Ongoing/Introduction%20to%20Webscrapping/Projet/retail%20impact.ipynb#W3sZmlsZQ%3D%3D?line=3'>4</a>\u001b[0m \u001b[39mwhile\u001b[39;00m page_counter \u001b[39m<\u001b[39m\u001b[39m=\u001b[39m get_max_page(urls[\u001b[39m0\u001b[39m]):\n\u001b[0;32m----> <a href='vscode-notebook-cell:/Users/alexandrecogordan/Documents/ESILV/Ongoing/Introduction%20to%20Webscrapping/Projet/retail%20impact.ipynb#W3sZmlsZQ%3D%3D?line=4'>5</a>\u001b[0m     get_product(urls[\u001b[39m0\u001b[39;49m][:\u001b[39m-\u001b[39;49m\u001b[39m1\u001b[39;49m] \u001b[39m+\u001b[39;49m \u001b[39mstr\u001b[39;49m(page_counter))\n\u001b[1;32m      <a href='vscode-notebook-cell:/Users/alexandrecogordan/Documents/ESILV/Ongoing/Introduction%20to%20Webscrapping/Projet/retail%20impact.ipynb#W3sZmlsZQ%3D%3D?line=5'>6</a>\u001b[0m     page_counter \u001b[39m+\u001b[39m\u001b[39m=\u001b[39m \u001b[39m1\u001b[39m\n\u001b[1;32m      <a href='vscode-notebook-cell:/Users/alexandrecogordan/Documents/ESILV/Ongoing/Introduction%20to%20Webscrapping/Projet/retail%20impact.ipynb#W3sZmlsZQ%3D%3D?line=6'>7</a>\u001b[0m     \u001b[39mbreak\u001b[39;00m\n",
      "\u001b[1;32m/Users/alexandrecogordan/Documents/ESILV/Ongoing/Introduction to Webscrapping/Projet/retail impact.ipynb Cell 6\u001b[0m line \u001b[0;36m1\n\u001b[1;32m     <a href='vscode-notebook-cell:/Users/alexandrecogordan/Documents/ESILV/Ongoing/Introduction%20to%20Webscrapping/Projet/retail%20impact.ipynb#W3sZmlsZQ%3D%3D?line=15'>16</a>\u001b[0m product_elements \u001b[39m=\u001b[39m driver\u001b[39m.\u001b[39mfind_elements(By\u001b[39m.\u001b[39mTAG_NAME, \u001b[39m'\u001b[39m\u001b[39marticle\u001b[39m\u001b[39m'\u001b[39m)\n\u001b[1;32m     <a href='vscode-notebook-cell:/Users/alexandrecogordan/Documents/ESILV/Ongoing/Introduction%20to%20Webscrapping/Projet/retail%20impact.ipynb#W3sZmlsZQ%3D%3D?line=17'>18</a>\u001b[0m \u001b[39mfor\u001b[39;00m product_element \u001b[39min\u001b[39;00m product_elements:\n\u001b[0;32m---> <a href='vscode-notebook-cell:/Users/alexandrecogordan/Documents/ESILV/Ongoing/Introduction%20to%20Webscrapping/Projet/retail%20impact.ipynb#W3sZmlsZQ%3D%3D?line=18'>19</a>\u001b[0m     product_element\u001b[39m.\u001b[39;49mclick()\n\u001b[1;32m     <a href='vscode-notebook-cell:/Users/alexandrecogordan/Documents/ESILV/Ongoing/Introduction%20to%20Webscrapping/Projet/retail%20impact.ipynb#W3sZmlsZQ%3D%3D?line=19'>20</a>\u001b[0m     driver\u001b[39m.\u001b[39mback()\n\u001b[1;32m     <a href='vscode-notebook-cell:/Users/alexandrecogordan/Documents/ESILV/Ongoing/Introduction%20to%20Webscrapping/Projet/retail%20impact.ipynb#W3sZmlsZQ%3D%3D?line=21'>22</a>\u001b[0m driver\u001b[39m.\u001b[39mquit()\n",
      "File \u001b[0;32m~/miniconda3/envs/tensorflow/lib/python3.10/site-packages/selenium/webdriver/remote/webelement.py:94\u001b[0m, in \u001b[0;36mWebElement.click\u001b[0;34m(self)\u001b[0m\n\u001b[1;32m     92\u001b[0m \u001b[39mdef\u001b[39;00m \u001b[39mclick\u001b[39m(\u001b[39mself\u001b[39m) \u001b[39m-\u001b[39m\u001b[39m>\u001b[39m \u001b[39mNone\u001b[39;00m:\n\u001b[1;32m     93\u001b[0m \u001b[39m    \u001b[39m\u001b[39m\"\"\"Clicks the element.\"\"\"\u001b[39;00m\n\u001b[0;32m---> 94\u001b[0m     \u001b[39mself\u001b[39;49m\u001b[39m.\u001b[39;49m_execute(Command\u001b[39m.\u001b[39;49mCLICK_ELEMENT)\n",
      "File \u001b[0;32m~/miniconda3/envs/tensorflow/lib/python3.10/site-packages/selenium/webdriver/remote/webelement.py:395\u001b[0m, in \u001b[0;36mWebElement._execute\u001b[0;34m(self, command, params)\u001b[0m\n\u001b[1;32m    393\u001b[0m     params \u001b[39m=\u001b[39m {}\n\u001b[1;32m    394\u001b[0m params[\u001b[39m\"\u001b[39m\u001b[39mid\u001b[39m\u001b[39m\"\u001b[39m] \u001b[39m=\u001b[39m \u001b[39mself\u001b[39m\u001b[39m.\u001b[39m_id\n\u001b[0;32m--> 395\u001b[0m \u001b[39mreturn\u001b[39;00m \u001b[39mself\u001b[39;49m\u001b[39m.\u001b[39;49m_parent\u001b[39m.\u001b[39;49mexecute(command, params)\n",
      "File \u001b[0;32m~/miniconda3/envs/tensorflow/lib/python3.10/site-packages/selenium/webdriver/remote/webdriver.py:348\u001b[0m, in \u001b[0;36mWebDriver.execute\u001b[0;34m(self, driver_command, params)\u001b[0m\n\u001b[1;32m    346\u001b[0m response \u001b[39m=\u001b[39m \u001b[39mself\u001b[39m\u001b[39m.\u001b[39mcommand_executor\u001b[39m.\u001b[39mexecute(driver_command, params)\n\u001b[1;32m    347\u001b[0m \u001b[39mif\u001b[39;00m response:\n\u001b[0;32m--> 348\u001b[0m     \u001b[39mself\u001b[39;49m\u001b[39m.\u001b[39;49merror_handler\u001b[39m.\u001b[39;49mcheck_response(response)\n\u001b[1;32m    349\u001b[0m     response[\u001b[39m\"\u001b[39m\u001b[39mvalue\u001b[39m\u001b[39m\"\u001b[39m] \u001b[39m=\u001b[39m \u001b[39mself\u001b[39m\u001b[39m.\u001b[39m_unwrap_value(response\u001b[39m.\u001b[39mget(\u001b[39m\"\u001b[39m\u001b[39mvalue\u001b[39m\u001b[39m\"\u001b[39m, \u001b[39mNone\u001b[39;00m))\n\u001b[1;32m    350\u001b[0m     \u001b[39mreturn\u001b[39;00m response\n",
      "File \u001b[0;32m~/miniconda3/envs/tensorflow/lib/python3.10/site-packages/selenium/webdriver/remote/errorhandler.py:229\u001b[0m, in \u001b[0;36mErrorHandler.check_response\u001b[0;34m(self, response)\u001b[0m\n\u001b[1;32m    227\u001b[0m         alert_text \u001b[39m=\u001b[39m value[\u001b[39m\"\u001b[39m\u001b[39malert\u001b[39m\u001b[39m\"\u001b[39m]\u001b[39m.\u001b[39mget(\u001b[39m\"\u001b[39m\u001b[39mtext\u001b[39m\u001b[39m\"\u001b[39m)\n\u001b[1;32m    228\u001b[0m     \u001b[39mraise\u001b[39;00m exception_class(message, screen, stacktrace, alert_text)  \u001b[39m# type: ignore[call-arg]  # mypy is not smart enough here\u001b[39;00m\n\u001b[0;32m--> 229\u001b[0m \u001b[39mraise\u001b[39;00m exception_class(message, screen, stacktrace)\n",
      "\u001b[0;31mStaleElementReferenceException\u001b[0m: Message: stale element reference: stale element not found\n  (Session info: chrome=120.0.6099.71); For documentation on this error, please visit: https://www.selenium.dev/documentation/webdriver/troubleshooting/errors#stale-element-reference-exception\nStacktrace:\n0   chromedriver                        0x0000000104fcc4cc chromedriver + 4162764\n1   chromedriver                        0x0000000104fc4654 chromedriver + 4130388\n2   chromedriver                        0x0000000104c1bbc0 chromedriver + 293824\n3   chromedriver                        0x0000000104c2a770 chromedriver + 354160\n4   chromedriver                        0x0000000104c21af0 chromedriver + 318192\n5   chromedriver                        0x0000000104c2017c chromedriver + 311676\n6   chromedriver                        0x0000000104c2313c chromedriver + 323900\n7   chromedriver                        0x0000000104c23278 chromedriver + 324216\n8   chromedriver                        0x0000000104c640b4 chromedriver + 590004\n9   chromedriver                        0x0000000104c57840 chromedriver + 538688\n10  chromedriver                        0x0000000104c57250 chromedriver + 537168\n11  chromedriver                        0x0000000104ca1ab0 chromedriver + 842416\n12  chromedriver                        0x0000000104c556bc chromedriver + 530108\n13  chromedriver                        0x0000000104c56930 chromedriver + 534832\n14  chromedriver                        0x0000000104f91df8 chromedriver + 3923448\n15  chromedriver                        0x0000000104f963cc chromedriver + 3941324\n16  chromedriver                        0x0000000104f7a028 chromedriver + 3825704\n17  chromedriver                        0x0000000104f96f2c chromedriver + 3944236\n18  chromedriver                        0x0000000104f6c6e4 chromedriver + 3770084\n19  chromedriver                        0x0000000104fb3970 chromedriver + 4061552\n20  chromedriver                        0x0000000104fb3ae8 chromedriver + 4061928\n21  chromedriver                        0x0000000104fc42d4 chromedriver + 4129492\n22  libsystem_pthread.dylib             0x000000018bad9034 _pthread_start + 136\n23  libsystem_pthread.dylib             0x000000018bad3e3c thread_start + 8\n"
     ]
    }
   ],
   "source": [
    "page_counter = 1\n",
    "urls = ['https://www.auchan.fr/fruits-legumes/fruits/ca-n0301?page=1']\n",
    "\n",
    "while page_counter <= get_max_page(urls[0]):\n",
    "    get_product(urls[0][:-1] + str(page_counter))\n",
    "    page_counter += 1\n",
    "    break"
   ]
  }
 ],
 "metadata": {
  "kernelspec": {
   "display_name": "tensorflow",
   "language": "python",
   "name": "python3"
  },
  "language_info": {
   "codemirror_mode": {
    "name": "ipython",
    "version": 3
   },
   "file_extension": ".py",
   "mimetype": "text/x-python",
   "name": "python",
   "nbconvert_exporter": "python",
   "pygments_lexer": "ipython3",
   "version": "3.10.12"
  }
 },
 "nbformat": 4,
 "nbformat_minor": 2
}
