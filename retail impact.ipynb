{
 "cells": [
  {
   "cell_type": "code",
   "execution_count": 34,
   "metadata": {},
   "outputs": [],
   "source": [
    "import requests\n",
    "import pandas as pd\n",
    "\n",
    "from bs4 import BeautifulSoup\n",
    "from selenium import webdriver\n",
    "from selenium.webdriver.chrome.options import Options\n",
    "from selenium.webdriver.common.keys import Keys"
   ]
  },
  {
   "cell_type": "code",
   "execution_count": 35,
   "metadata": {},
   "outputs": [],
   "source": [
    "product_info = {'Name':[], 'Origin':[]}"
   ]
  },
  {
   "cell_type": "code",
   "execution_count": 36,
   "metadata": {},
   "outputs": [],
   "source": [
    "def scrape(url):\n",
    "    response = requests.get(url)\n",
    "\n",
    "    if response.status_code == 200:\n",
    "        soup = BeautifulSoup(response.text, 'html.parser')\n",
    "        return soup\n",
    "    else:\n",
    "        print(f\"Failed to retrieve the page. Status code: {response.status_code}\")"
   ]
  },
  {
   "cell_type": "code",
   "execution_count": 37,
   "metadata": {},
   "outputs": [],
   "source": [
    "def get_max_page(url):\n",
    "    soup = scrape(url)\n",
    "\n",
    "    pages = soup.find('div', class_='pagination-links__container').find_all('a', class_='pagination-item')\n",
    "    max_page = pages[-1].text.strip()\n",
    "\n",
    "    return int(max_page)"
   ]
  },
  {
   "cell_type": "code",
   "execution_count": 38,
   "metadata": {},
   "outputs": [],
   "source": [
    "def process_text(tag_key, tags):\n",
    "    text = tags[tag_key].text.strip()\n",
    "\n",
    "    if(tag_key == 'Name'):\n",
    "        text.replace('AUCHAN BIO\\n    ', '')\n",
    "\n",
    "    return text"
   ]
  },
  {
   "cell_type": "code",
   "execution_count": 39,
   "metadata": {},
   "outputs": [],
   "source": [
    "def get_product(url):\n",
    "    driver = webdriver.Firefox()\n",
    "\n",
    "    driver.get(url)\n",
    "\n",
    "    products = driver.find_elements('xpath','//p[@class=\"product-thumbnail__description\"]')\n",
    "\n",
    "    for product in products:\n",
    "        print(product.text)\n",
    "\n",
    "    driver.quit()"
   ]
  },
  {
   "cell_type": "code",
   "execution_count": 40,
   "metadata": {},
   "outputs": [
    {
     "name": "stdout",
     "output_type": "stream",
     "text": [
      "CULTIVONS LE BON Clémentines Corse bio avec feuilles\n",
      "Pommes Golden\n",
      "Pommes Gala\n",
      "Grenade\n",
      "Kaki\n",
      "Oranges à déguster\n",
      "Oranges à jus\n",
      "Oranges à déguster\n",
      "CULTIVONS LE BON Clémentines Corse avec feuilles\n",
      "Clémentines à déguster\n",
      "Mandarines\n",
      "Citrons jaunes à jus\n",
      "AUCHAN BIO CULTIVONS LE BON Pomelos rose\n",
      "AUCHAN BIO Oranges à déguster\n"
     ]
    },
    {
     "data": {
      "text/html": [
       "<div>\n",
       "<style scoped>\n",
       "    .dataframe tbody tr th:only-of-type {\n",
       "        vertical-align: middle;\n",
       "    }\n",
       "\n",
       "    .dataframe tbody tr th {\n",
       "        vertical-align: top;\n",
       "    }\n",
       "\n",
       "    .dataframe thead th {\n",
       "        text-align: right;\n",
       "    }\n",
       "</style>\n",
       "<table border=\"1\" class=\"dataframe\">\n",
       "  <thead>\n",
       "    <tr style=\"text-align: right;\">\n",
       "      <th></th>\n",
       "      <th>Name</th>\n",
       "      <th>Origin</th>\n",
       "    </tr>\n",
       "  </thead>\n",
       "  <tbody>\n",
       "  </tbody>\n",
       "</table>\n",
       "</div>"
      ],
      "text/plain": [
       "Empty DataFrame\n",
       "Columns: [Name, Origin]\n",
       "Index: []"
      ]
     },
     "execution_count": 40,
     "metadata": {},
     "output_type": "execute_result"
    }
   ],
   "source": [
    "page_counter = 1\n",
    "urls = ['https://www.auchan.fr/fruits-legumes/fruits/ca-n0301?page=1']\n",
    "\n",
    "while page_counter <= get_max_page(urls[0]):\n",
    "    get_product(urls[0][:-1] + str(page_counter))\n",
    "    page_counter += 1\n",
    "    break\n",
    "\n",
    "retail_df = pd.DataFrame(product_info)\n",
    "\n",
    "retail_df"
   ]
  },
  {
   "cell_type": "markdown",
   "metadata": {},
   "source": [
    "### With beautifulsoup"
   ]
  },
  {
   "cell_type": "code",
   "execution_count": 176,
   "metadata": {},
   "outputs": [],
   "source": [
    "def get_product(url):\n",
    "    soup = scrape(url)\n",
    "\n",
    "    articles = soup.find_all('article', role='article')\n",
    "\n",
    "    for article in articles:\n",
    "        tags = {'Name' : article.find('p', class_='product-thumbnail__description'),\n",
    "                'Origin': article.find('div', class_='product-origin'),\n",
    "                'Price': article.find('div', class_='product-price bolder text-dark-color'),\n",
    "                'Weight/Pieces': article.find('span', class_='product-attribute')}\n",
    "\n",
    "        print(tags['Weight/Pieces'])\n",
    "\n",
    "        for tag_key, tag_value in tags.items():\n",
    "            if tag_value:\n",
    "                product_info[tag_key].append(process_text(tag_key, tags))"
   ]
  }
 ],
 "metadata": {
  "kernelspec": {
   "display_name": "tensorflow",
   "language": "python",
   "name": "python3"
  },
  "language_info": {
   "codemirror_mode": {
    "name": "ipython",
    "version": 3
   },
   "file_extension": ".py",
   "mimetype": "text/x-python",
   "name": "python",
   "nbconvert_exporter": "python",
   "pygments_lexer": "ipython3",
   "version": "3.10.12"
  }
 },
 "nbformat": 4,
 "nbformat_minor": 2
}
