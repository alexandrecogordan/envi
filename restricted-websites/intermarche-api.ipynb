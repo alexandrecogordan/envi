{
 "cells": [
  {
   "cell_type": "code",
   "execution_count": 3,
   "metadata": {},
   "outputs": [
    {
     "name": "stdout",
     "output_type": "stream",
     "text": [
      "401 {\"code\":\"401.01.001\",\"message\":\"Invalid API key\",\"info\":\"https://developers.intermarche.com/apis-errors\"}\n"
     ]
    }
   ],
   "source": [
    "import requests\n",
    "\n",
    "api_key = '710148'\n",
    "response = requests.get('https://api-partners.intermarche.com/produits/v1', params={key='alexandre-key'})')\n",
    "\n",
    "print(response.status_code, response.text)"
   ]
  },
  {
   "cell_type": "code",
   "execution_count": 1,
   "metadata": {},
   "outputs": [
    {
     "name": "stdout",
     "output_type": "stream",
     "text": [
      "Error: 404 {\"code\":\"404.01.001\",\"message\":\"Resource not found\",\"info\":\"https://developers.intermarche.com/apis-errors\"}\n"
     ]
    }
   ],
   "source": [
    "import requests\n",
    "\n",
    "api_key = 'alexandre-key'\n",
    "endpoint_url = 'https://api-partners.intermarche.com/produits/v1'\n",
    "\n",
    "headers = {\n",
    "    'Authorization': f'Bearer {api_key}',\n",
    "    'Content-Type': 'application/json',\n",
    "}\n",
    "\n",
    "# Make a GET request\n",
    "response = requests.get(endpoint_url, headers=headers)\n",
    "\n",
    "# Check the response status\n",
    "if response.status_code == 200:\n",
    "    data = response.json()\n",
    "    print(\"API Response:\", data)\n",
    "else:\n",
    "    print(\"Error:\", response.status_code, response.text)"
   ]
  }
 ],
 "metadata": {
  "kernelspec": {
   "display_name": "tensorflow",
   "language": "python",
   "name": "python3"
  },
  "language_info": {
   "codemirror_mode": {
    "name": "ipython",
    "version": 3
   },
   "file_extension": ".py",
   "mimetype": "text/x-python",
   "name": "python",
   "nbconvert_exporter": "python",
   "pygments_lexer": "ipython3",
   "version": "3.10.12"
  }
 },
 "nbformat": 4,
 "nbformat_minor": 2
}
