{
 "cells": [
  {
   "cell_type": "code",
   "execution_count": 30,
   "metadata": {},
   "outputs": [],
   "source": [
    "import requests\n",
    "import pandas as pd\n",
    "import random\n",
    "\n",
    "from bs4 import BeautifulSoup"
   ]
  },
  {
   "cell_type": "code",
   "execution_count": 31,
   "metadata": {},
   "outputs": [],
   "source": [
    "def scrape(url):\n",
    "\n",
    "    response = requests.get(url, headers={'User-Agent': 'Mozilla/5.0 (Macintosh; Intel Mac OS X 10_12_6) AppleWebKit/537.36 (KHTML, like Gecko) Chrome/108.0.0.0 Safari/537.36 OPR/94.0.0.0'})\n",
    "\n",
    "    if response.status_code == 200:\n",
    "        soup = BeautifulSoup(response.text, 'html.parser')\n",
    "        return soup\n",
    "    else:\n",
    "        print(f\"Failed to retrieve the page. Status code: {response.status_code}\")"
   ]
  },
  {
   "cell_type": "code",
   "execution_count": 32,
   "metadata": {},
   "outputs": [],
   "source": [
    "def get_max_page(url):\n",
    "    soup = scrape(url)\n",
    "\n",
    "    pages = soup.find('div', class_='pagination-links__container').find_all('a', class_='pagination-item')\n",
    "    max_page = pages[-1].text.strip()\n",
    "\n",
    "    return int(max_page)"
   ]
  },
  {
   "cell_type": "code",
   "execution_count": 33,
   "metadata": {},
   "outputs": [],
   "source": [
    "def get_product(url):\n",
    "    soup = scrape(url)\n",
    "\n",
    "    products = soup.find('div', class_='layout__Container-sc-nb1ebc-0 NDIcW')\n",
    "\n",
    "    attributes = {'Name':[], 'Image Link':[], 'Origin':[], 'Price':[], 'Unit Price':[]}\n",
    "\n",
    "    for product in products:\n",
    "        name = product.find('a', class_='link__Link-sc-14ymsi2-0 hSRoYD link__Link-sc-14ymsi2-0 base__Title-sc-1mnb0pd-27 base__FixedHeightTitle-sc-1mnb0pd-43 hSRoYD ifdXVr cCRJZx')\n",
    "        #print(soup.select('#main > div:nth-child(2) > div > div > div:nth-child(2) > div > div > div:nth-child(3) > div:nth-child(2) > div:nth-child(1) > div > a'))\n",
    "        origin = product.find('span', class_='rectangular-badge__RectangularBadge-sc-1k9mcpf-0 base__CountryOfOrigin-sc-1mnb0pd-46 jPSXAR gYAJJo')\n",
    "        price = product.find('strong', class_='base__Price-sc-1mnb0pd-29 sc-ksdxAp fJKWWj irZyf')\n",
    "        unit_price = product.find('span', class_='text__Text-sc-6l1yjp-0 standard-promotion__PromotionIntentText-sc-1vpsrpe-2 fop__PricePerText-sc-sgv9y1-5 dLNLFE fAoahS eNYENy')\n",
    "\n",
    "        if price:\n",
    "            attributes['Price'].append(price.text.strip())\n",
    "        else:\n",
    "            attributes['Price'].append(None)\n",
    "\n",
    "        if name:\n",
    "            attributes['Name'].append(name.text.strip())\n",
    "        else:\n",
    "            attributes['Name'].append(None)\n",
    "\n",
    "        if origin:\n",
    "            attributes['Origin'].append(origin.text.strip())\n",
    "        else:\n",
    "            attributes['Origin'].append(None)\n",
    "\n",
    "        if unit_price:\n",
    "            attributes['Unit Price'].append(unit_price.text.strip())\n",
    "        else:\n",
    "            attributes['Unit Price'].append(None)\n",
    "        \n",
    "        attributes['Image Link'].append(None)  \n",
    "\n",
    "    # if image_link:\n",
    "    #     attributes['Image Link'].append(image_link['href'])\n",
    "    # else:\n",
    "    #     attributes['Image Link'].append('N/A')\n",
    "    \n",
    "    return attributes"
   ]
  },
  {
   "cell_type": "code",
   "execution_count": 34,
   "metadata": {},
   "outputs": [],
   "source": [
    "urls = ['https://plus.casino.fr/products?sublocationId=86df9681-98f0-424e-80aa-e335a882e6aa']\n",
    "\n",
    "for url in urls:\n",
    "    product_dict = get_product(url)\n",
    "    retail_df = pd.DataFrame(product_dict)"
   ]
  },
  {
   "cell_type": "code",
   "execution_count": 35,
   "metadata": {},
   "outputs": [],
   "source": [
    "retail_df.dropna(how='all', inplace=True)"
   ]
  },
  {
   "cell_type": "code",
   "execution_count": 38,
   "metadata": {},
   "outputs": [],
   "source": [
    "# Output the filtered dataframe to a CSV file\n",
    "retail_df.to_csv('casino.csv', index=False)"
   ]
  }
 ],
 "metadata": {
  "kernelspec": {
   "display_name": "tensorflow",
   "language": "python",
   "name": "python3"
  },
  "language_info": {
   "codemirror_mode": {
    "name": "ipython",
    "version": 3
   },
   "file_extension": ".py",
   "mimetype": "text/x-python",
   "name": "python",
   "nbconvert_exporter": "python",
   "pygments_lexer": "ipython3",
   "version": "3.10.12"
  }
 },
 "nbformat": 4,
 "nbformat_minor": 2
}
