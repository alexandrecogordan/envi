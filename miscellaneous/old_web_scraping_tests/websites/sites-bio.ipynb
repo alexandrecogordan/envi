{
 "cells": [
  {
   "cell_type": "code",
   "execution_count": 250,
   "metadata": {},
   "outputs": [],
   "source": [
    "import requests\n",
    "import pandas as pd\n",
    "import random\n",
    "import pickle\n",
    "\n",
    "from selenium import webdriver\n",
    "from selenium.webdriver.common.by import By\n",
    "from selenium.webdriver.support.ui import WebDriverWait\n",
    "from selenium.webdriver.support import expected_conditions as EC"
   ]
  },
  {
   "cell_type": "code",
   "execution_count": 251,
   "metadata": {},
   "outputs": [],
   "source": [
    "def scrape(url):\n",
    "    response = requests.get(url, headers={'User-Agent': 'Mozilla/5.0 (Macintosh; Intel Mac OS X 10_12_6) AppleWebKit/537.36 (KHTML, like Gecko) Chrome/108.0.0.0 Safari/537.36 OPR/94.0.0.0'})\n",
    "    driver = webdriver.Firefox()\n",
    "    \n",
    "    return driver "
   ]
  },
  {
   "cell_type": "code",
   "execution_count": 252,
   "metadata": {},
   "outputs": [],
   "source": [
    "def get_max_page(url):\n",
    "    soup = scrape(url)\n",
    "\n",
    "    pages = soup.find('div', class_='pagination-links__container').find_all('a', class_='pagination-item')\n",
    "    max_page = pages[-1].text.strip()\n",
    "\n",
    "    return int(max_page)"
   ]
  },
  {
   "cell_type": "code",
   "execution_count": 253,
   "metadata": {},
   "outputs": [],
   "source": [
    "def add_attribute(attribute):\n",
    "    if attribute:\n",
    "        return attribute.text.strip()\n",
    "    return None"
   ]
  },
  {
   "cell_type": "code",
   "execution_count": 254,
   "metadata": {},
   "outputs": [],
   "source": [
    "def click_button(driver, xpath):\n",
    "    try:\n",
    "        element_locator = (By.XPATH, xpath)\n",
    "        wait = WebDriverWait(driver, 10)\n",
    "        element = wait.until(EC.element_to_be_clickable(element_locator))\n",
    "        element.click()\n",
    "    except:\n",
    "        pass"
   ]
  },
  {
   "cell_type": "code",
   "execution_count": 255,
   "metadata": {},
   "outputs": [],
   "source": [
    "def find_elmt(driver, xpath):\n",
    "    try:\n",
    "        element_locator = (By.XPATH, xpath)\n",
    "        \n",
    "        return WebDriverWait(driver, 20).until(EC.visibility_of_element_located(element_locator)) #.get_attribute(\"value\")\n",
    "    except:\n",
    "        pass"
   ]
  },
  {
   "cell_type": "code",
   "execution_count": 256,
   "metadata": {},
   "outputs": [],
   "source": [
    "def get_product(url_key, url_value):\n",
    "    \n",
    "    driver = scrape(url_key)\n",
    "\n",
    "    driver.get(url_key)\n",
    "\n",
    "    click_button(driver, \"//button[@class='tertiary-button orange smaller  no-parent']\")\n",
    "    click_button(driver, \"//a[@link='/magasin-bio/produits/fruits-et-legumes_780']\")\n",
    "\n",
    "    attributes = {'Name':[], 'Image Link':[], 'Origin':[], 'Price':[], 'Unit Price':[], 'Bio':[]}\n",
    "    \n",
    "    products = find_elmt(By.XPATH, url_value['products'])\n",
    "\n",
    "    print(products)\n",
    "\n",
    "    # for product in products:\n",
    "    #     name = product.find_element(By.XPATH, url_value['name'])\n",
    "    #     origin = product.find(By.XPATH, url_value['origin'])\n",
    "    #     price = product.find(By.XPATH, url_value['price'])\n",
    "    #     unit_price = product.find(By.XPATH, url_value['unit_price'])\n",
    "    #     image_link = product.find(By.XPATH, url_value['image_link'])\n",
    "\n",
    "    #     attributes['Name'].append(add_attribute(name))\n",
    "    #     attributes['Origin'].append(add_attribute(origin))\n",
    "    #     attributes['Price'].append(add_attribute(price))\n",
    "    #     attributes['Unit Price'].append(add_attribute(unit_price))\n",
    "    #     attributes['Image Link'].append(add_attribute(image_link))\n",
    "\n",
    "    #     if name:\n",
    "    #         if 'bio' in name.text.strip().lower():\n",
    "    #             attributes['Bio'].append(True)\n",
    "    #         else:\n",
    "    #             attributes['Bio'].append(False)\n",
    "    #     else:\n",
    "    #         attributes['Bio'].append(None)\n",
    "\n",
    "    driver.quit()\n",
    "\n",
    "    attribute_df = pd.DataFrame(attributes) \n",
    "    attribute_df.dropna(how = 'all', inplace=True)\n",
    "\n",
    "    return attribute_df"
   ]
  },
  {
   "cell_type": "code",
   "execution_count": 257,
   "metadata": {},
   "outputs": [
    {
     "name": "stdout",
     "output_type": "stream",
     "text": [
      "None\n"
     ]
    }
   ],
   "source": [
    "urls = {'https://fr.openfoodfacts.org/' : {'products' : \"/html/body/div[1]/div/div[1]/div[2]/div[2]/div[1]/div/div[5]\", 'name' : \"//div[@class='product-title']\", 'origin' : \"//div[@class='origine-on-card']\", 'price' : \"//span[@class='product-price']\", 'unit_price' : \"//span[@class='product-price-type']\", 'image_link' : \"//a[@class='img-link']\"}}\n",
    "        #'https://www.eau-vive.com/magasins' : {'products' : \"/html/body/div[1]/div/div[1]/div[2]/div[2]/div[1]/div/div[5]\", 'name' : \"//div[@class='product-title']\", 'origin' : \"//div[@class='origine-on-card']\", 'price' : \"//span[@class='product-price']\", 'unit_price' : \"//span[@class='product-price-type']\", 'image_link' : \"//a[@class='img-link']\"}\n",
    "        #'https://www.franprix.fr/courses/c/fruits-et-legumes' : []}\n",
    "        # 'https://www.monoprix.fr/courses/fruits-legumes-0000577?page=6' : []}\n",
    "\n",
    "for url_key, url_value in urls.items():\n",
    "    retail_df = get_product(url_key, url_value)"
   ]
  },
  {
   "cell_type": "code",
   "execution_count": 225,
   "metadata": {},
   "outputs": [
    {
     "data": {
      "text/html": [
       "<div>\n",
       "<style scoped>\n",
       "    .dataframe tbody tr th:only-of-type {\n",
       "        vertical-align: middle;\n",
       "    }\n",
       "\n",
       "    .dataframe tbody tr th {\n",
       "        vertical-align: top;\n",
       "    }\n",
       "\n",
       "    .dataframe thead th {\n",
       "        text-align: right;\n",
       "    }\n",
       "</style>\n",
       "<table border=\"1\" class=\"dataframe\">\n",
       "  <thead>\n",
       "    <tr style=\"text-align: right;\">\n",
       "      <th></th>\n",
       "      <th>Name</th>\n",
       "      <th>Image Link</th>\n",
       "      <th>Origin</th>\n",
       "      <th>Price</th>\n",
       "      <th>Unit Price</th>\n",
       "      <th>Bio</th>\n",
       "    </tr>\n",
       "  </thead>\n",
       "  <tbody>\n",
       "  </tbody>\n",
       "</table>\n",
       "</div>"
      ],
      "text/plain": [
       "Empty DataFrame\n",
       "Columns: [Name, Image Link, Origin, Price, Unit Price, Bio]\n",
       "Index: []"
      ]
     },
     "execution_count": 225,
     "metadata": {},
     "output_type": "execute_result"
    }
   ],
   "source": [
    "retail_df"
   ]
  },
  {
   "cell_type": "code",
   "execution_count": 112,
   "metadata": {},
   "outputs": [],
   "source": [
    "#retail_df.to_csv('casino.csv', index=False)"
   ]
  }
 ],
 "metadata": {
  "kernelspec": {
   "display_name": "tensorflow",
   "language": "python",
   "name": "python3"
  },
  "language_info": {
   "codemirror_mode": {
    "name": "ipython",
    "version": 3
   },
   "file_extension": ".py",
   "mimetype": "text/x-python",
   "name": "python",
   "nbconvert_exporter": "python",
   "pygments_lexer": "ipython3",
   "version": "3.10.12"
  }
 },
 "nbformat": 4,
 "nbformat_minor": 2
}
