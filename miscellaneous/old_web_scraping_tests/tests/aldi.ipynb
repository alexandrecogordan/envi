{
 "cells": [
  {
   "cell_type": "code",
   "execution_count": 28,
   "metadata": {},
   "outputs": [],
   "source": [
    "import requests\n",
    "import pandas as pd\n",
    "\n",
    "from bs4 import BeautifulSoup"
   ]
  },
  {
   "cell_type": "code",
   "execution_count": 29,
   "metadata": {},
   "outputs": [],
   "source": [
    "retail_df = pd.DataFrame()"
   ]
  },
  {
   "cell_type": "code",
   "execution_count": 30,
   "metadata": {},
   "outputs": [],
   "source": [
    "def scrape(url):\n",
    "    response = requests.get(url)\n",
    "\n",
    "    if response.status_code == 200:\n",
    "        soup = BeautifulSoup(response.text, 'html.parser')\n",
    "        return soup\n",
    "    else:\n",
    "        print(f\"Failed to retrieve the page. Status code: {response.status_code}\")"
   ]
  },
  {
   "cell_type": "code",
   "execution_count": 31,
   "metadata": {},
   "outputs": [],
   "source": [
    "def get_max_page(url):\n",
    "    soup = scrape(url)\n",
    "\n",
    "    pages = soup.find('div', class_='pagination-links__container').find_all('a', class_='pagination-item')\n",
    "    max_page = pages[-1].text.strip()\n",
    "\n",
    "    return int(max_page)"
   ]
  },
  {
   "cell_type": "code",
   "execution_count": 34,
   "metadata": {},
   "outputs": [],
   "source": [
    "def get_product(url):\n",
    "    soup = scrape(url)\n",
    "\n",
    "    products = soup.find_all('div', class_='tiles-grid')\n",
    "\n",
    "    for product in products:\n",
    "        name = product.find('span', class_='mod-article-tile__title').text.strip()\n",
    "        price = product.find('span', class_='price__wrapper').text.strip()\n",
    "        #origin = product.find('span', class_='stime-product--details__origin').text.strip()\n",
    "        #retail_df.loc[len(retail_df)] = [name, price]\n",
    "        print('Name: ', name, '\\nPrice: ', price)"
   ]
  },
  {
   "cell_type": "code",
   "execution_count": 35,
   "metadata": {},
   "outputs": [
    {
     "name": "stdout",
     "output_type": "stream",
     "text": [
      "Name:  Assortiment végétarien et bio \n",
      "Price:  2,79\n",
      "\t\t€\n",
      "Name:  Coupelles de purée de pommes bio \n",
      "Price:  2,19\n",
      "\t\t€\n",
      "Name:  6 oeufs bio \n",
      "Price:  2,19\n",
      "\t\t€\n",
      "Name:  Brocolis bio \n",
      "Price:  2,29\n",
      "\t\t€\n",
      "Name:  Lait demi-écrémé bio \n",
      "Price:  1,15\n",
      "\t\t€\n",
      "Name:  Bâtonnets ouatés coton bio \n",
      "Price:  1,19\n",
      "\t\t€\n"
     ]
    },
    {
     "data": {
      "text/html": [
       "<div>\n",
       "<style scoped>\n",
       "    .dataframe tbody tr th:only-of-type {\n",
       "        vertical-align: middle;\n",
       "    }\n",
       "\n",
       "    .dataframe tbody tr th {\n",
       "        vertical-align: top;\n",
       "    }\n",
       "\n",
       "    .dataframe thead th {\n",
       "        text-align: right;\n",
       "    }\n",
       "</style>\n",
       "<table border=\"1\" class=\"dataframe\">\n",
       "  <thead>\n",
       "    <tr style=\"text-align: right;\">\n",
       "      <th></th>\n",
       "    </tr>\n",
       "  </thead>\n",
       "  <tbody>\n",
       "  </tbody>\n",
       "</table>\n",
       "</div>"
      ],
      "text/plain": [
       "Empty DataFrame\n",
       "Columns: []\n",
       "Index: []"
      ]
     },
     "execution_count": 35,
     "metadata": {},
     "output_type": "execute_result"
    }
   ],
   "source": [
    "url = 'https://www.aldi.fr/produits/NosProduitsBio.html'\n",
    "\n",
    "get_product(url)\n",
    "\n",
    "retail_df"
   ]
  },
  {
   "cell_type": "code",
   "execution_count": null,
   "metadata": {},
   "outputs": [],
   "source": [
    "page_counter = 1\n",
    "urls = ['https://www.auchan.fr/fruits-legumes/fruits/ca-n0301?page=1']\n",
    "\n",
    "while page_counter <= get_max_page(urls[0]):\n",
    "    get_product(urls[0][:-1] + str(page_counter))\n",
    "    page_counter += 1\n",
    "    break"
   ]
  }
 ],
 "metadata": {
  "kernelspec": {
   "display_name": "tensorflow",
   "language": "python",
   "name": "python3"
  },
  "language_info": {
   "codemirror_mode": {
    "name": "ipython",
    "version": 3
   },
   "file_extension": ".py",
   "mimetype": "text/x-python",
   "name": "python",
   "nbconvert_exporter": "python",
   "pygments_lexer": "ipython3",
   "version": "3.10.12"
  }
 },
 "nbformat": 4,
 "nbformat_minor": 2
}
